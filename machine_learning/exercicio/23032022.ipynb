{
 "cells": [
  {
   "cell_type": "markdown",
   "metadata": {},
   "source": [
    "# 23032022"
   ]
  },
  {
   "cell_type": "markdown",
   "metadata": {},
   "source": []
  },
  {
   "cell_type": "code",
   "execution_count": 30,
   "metadata": {},
   "outputs": [],
   "source": [
    "import numpy as np\n",
    "\n",
    "def f(x1,x2):\n",
    "    y = x1+1\n",
    "    epsilon = np.random.normal(0, 1, 1)\n",
    "    return y+epsilon"
   ]
  },
  {
   "cell_type": "code",
   "execution_count": 31,
   "metadata": {},
   "outputs": [
    {
     "data": {
      "text/plain": [
       "array([0.95593381])"
      ]
     },
     "execution_count": 31,
     "metadata": {},
     "output_type": "execute_result"
    }
   ],
   "source": [
    "f(0,0)"
   ]
  },
  {
   "cell_type": "code",
   "execution_count": 32,
   "metadata": {},
   "outputs": [
    {
     "data": {
      "text/plain": [
       "array([[ 7.10511939],\n",
       "       [ 3.43422281],\n",
       "       [ 2.8608409 ],\n",
       "       [ 3.68341804],\n",
       "       [ 3.62057681],\n",
       "       [ 7.4969677 ],\n",
       "       [ 6.70504726],\n",
       "       [ 6.02955136],\n",
       "       [ 3.79728336],\n",
       "       [10.04394371]])"
      ]
     },
     "execution_count": 32,
     "metadata": {},
     "output_type": "execute_result"
    }
   ],
   "source": [
    "# generate a dataset\n",
    "\n",
    "N = 1000\n",
    "\n",
    "def make_data(N):\n",
    "    rnd = np.random.uniform(0,10,N*2)\n",
    "    D = np.reshape(rnd,(N,2))\n",
    "    return D\n",
    "\n",
    "Tr = make_data(N)\n",
    "y = np.array(list(map(lambda point: f(point[0],point[1]),Tr)))\n",
    "y[0:10]"
   ]
  },
  {
   "cell_type": "code",
   "execution_count": 33,
   "metadata": {},
   "outputs": [],
   "source": [
    "def gety(X):\n",
    "    return np.array(list(map(lambda point: f(point[0],point[1]),X)))"
   ]
  },
  {
   "cell_type": "code",
   "execution_count": 34,
   "metadata": {},
   "outputs": [
    {
     "data": {
      "text/plain": [
       "array([[1.77862651e+00, 1.15312644e-01],\n",
       "       [7.68399576e+00, 1.33202144e-01],\n",
       "       [5.00081450e+00, 1.39247281e-01],\n",
       "       [8.86967089e+00, 1.38471005e-01],\n",
       "       [7.02123345e+00, 7.25434779e-02],\n",
       "       [8.56820516e+00, 1.59298448e-01],\n",
       "       [2.41747254e+00, 2.21769142e-01],\n",
       "       [9.68670585e+00, 5.33025948e-02],\n",
       "       [2.03685107e-03, 2.24934321e-01],\n",
       "       [9.94515615e+00, 1.24286630e-01],\n",
       "       [3.49765359e+00, 1.13733533e-02],\n",
       "       [3.64065745e+00, 1.82505234e-01],\n",
       "       [5.70062173e+00, 2.41026575e-01],\n",
       "       [4.26113594e+00, 2.15090410e-01],\n",
       "       [1.92632255e+00, 1.86824212e-01],\n",
       "       [5.91941788e+00, 2.18932505e-01],\n",
       "       [3.14482327e+00, 6.01079943e-04],\n",
       "       [2.28375910e+00, 1.50553996e-03],\n",
       "       [8.12761230e+00, 1.37148130e-01]])"
      ]
     },
     "execution_count": 34,
     "metadata": {},
     "output_type": "execute_result"
    }
   ],
   "source": [
    "# Plot a projection\n",
    "\n",
    "Proj = Tr[Tr[:,1]<0.25]\n",
    "Proj\n",
    "\n"
   ]
  },
  {
   "cell_type": "code",
   "execution_count": 35,
   "metadata": {},
   "outputs": [
    {
     "data": {
      "image/png": "[encoded data removed]",
      "text/plain": [
       "<Figure size 432x288 with 1 Axes>"
      ]
     },
     "metadata": {
      "needs_background": "light"
     },
     "output_type": "display_data"
    }
   ],
   "source": [
    "import matplotlib.pyplot as plt\n",
    "\n",
    "plt.scatter(Proj[:,0],Proj[:,1]);"
   ]
  },
  {
   "cell_type": "code",
   "execution_count": 36,
   "metadata": {},
   "outputs": [
    {
     "data": {
      "text/plain": [
       "(19, 1)"
      ]
     },
     "execution_count": 36,
     "metadata": {},
     "output_type": "execute_result"
    }
   ],
   "source": [
    "Projy = gety(Proj)\n",
    "np.shape(Projy)\n",
    "\n"
   ]
  },
  {
   "cell_type": "code",
   "execution_count": 37,
   "metadata": {},
   "outputs": [
    {
     "data": {
      "image/png": "[encoded data removed]",
      "text/plain": [
       "<Figure size 432x288 with 1 Axes>"
      ]
     },
     "metadata": {
      "needs_background": "light"
     },
     "output_type": "display_data"
    }
   ],
   "source": [
    "plt.scatter(Proj[:,0],Projy);"
   ]
  },
  {
   "cell_type": "code",
   "execution_count": 38,
   "metadata": {},
   "outputs": [
    {
     "data": {
      "text/plain": [
       "(array([[ 1.00127677, -0.02336095]]), array([1.11697346]))"
      ]
     },
     "execution_count": 38,
     "metadata": {},
     "output_type": "execute_result"
    }
   ],
   "source": [
    "# Build the regression model\n",
    "\n",
    "from sklearn.linear_model import LinearRegression as LR\n",
    "\n",
    "model_lr1 = LR().fit(Tr,y)\n",
    "model_lr1.coef_, model_lr1.intercept_"
   ]
  },
  {
   "cell_type": "code",
   "execution_count": 39,
   "metadata": {},
   "outputs": [
    {
     "data": {
      "image/png": "[encoded data removed]",
      "text/plain": [
       "<Figure size 432x288 with 1 Axes>"
      ]
     },
     "metadata": {
      "needs_background": "light"
     },
     "output_type": "display_data"
    }
   ],
   "source": [
    "# Plot on the projection, ignoring that beta2 is not 0\n",
    "\n",
    "b=model_lr1.coef_[0][0]\n",
    "a=model_lr1.intercept_\n",
    "\n",
    "def haty(x):\n",
    "    return a+b*x\n",
    "\n",
    "plt.scatter(Proj[:,0],Projy)\n",
    "plt.plot((0,10),(haty(0),haty(10)),color='red');"
   ]
  },
  {
   "cell_type": "code",
   "execution_count": 40,
   "metadata": {},
   "outputs": [],
   "source": [
    "def Err(model,X,y):\n",
    "    return np.mean((model.predict(X)-y)**2)"
   ]
  },
  {
   "cell_type": "code",
   "execution_count": 41,
   "metadata": {},
   "outputs": [
    {
     "data": {
      "text/plain": [
       "0.9307753559831656"
      ]
     },
     "execution_count": 41,
     "metadata": {},
     "output_type": "execute_result"
    }
   ],
   "source": [
    "Err_tr = Err(model_lr1,Tr,y)\n",
    "Err_tr"
   ]
  },
  {
   "cell_type": "code",
   "execution_count": 42,
   "metadata": {},
   "outputs": [
    {
     "data": {
      "text/plain": [
       "0.9664558977715996"
      ]
     },
     "execution_count": 42,
     "metadata": {},
     "output_type": "execute_result"
    }
   ],
   "source": [
    "Nte=1000\n",
    "\n",
    "Te = make_data(Nte)\n",
    "\n",
    "Err_T = Err(model_lr1,Te,gety(Te))\n",
    "Err_T\n",
    "\n"
   ]
  },
  {
   "cell_type": "code",
   "execution_count": 43,
   "metadata": {},
   "outputs": [
    {
     "data": {
      "text/plain": [
       "-0.014858822215552302"
      ]
     },
     "execution_count": 43,
     "metadata": {},
     "output_type": "execute_result"
    }
   ],
   "source": [
    "# Estimate optimism wrt generalization error, but changing train in each iteration\n",
    "\n",
    "N=100\n",
    "\n",
    "def make_model(D,y):\n",
    "    model = LR().fit(D,y)\n",
    "    return model\n",
    "\n",
    "def errs_model(N):\n",
    "    Tr = make_data(N)\n",
    "    y = gety(Tr)\n",
    "    model = make_model(Tr,y)\n",
    "    Err_tr = Err(model_lr1,Tr,y)\n",
    "    Te = make_data(N)\n",
    "    Err_T = Err(model,Te,gety(Te))\n",
    "    return (Err_tr, Err_T)\n",
    "\n",
    "def optimism():\n",
    "    errs=errs_model(100)\n",
    "    optimism1 = errs[0]-errs[1]\n",
    "    return optimism1\n",
    "    \n",
    "R = 1000\n",
    "\n",
    "Err_tr = np.array(list(map(lambda it: optimism(),np.repeat(0,R))))\n",
    "np.mean(Err_tr)"
   ]
  },
  {
   "cell_type": "code",
   "execution_count": null,
   "metadata": {},
   "outputs": [],
   "source": []
  }
 ],
 "metadata": {
  "interpreter": {
   "hash": "62a6c86f86745f44f0618d955818946d3a900d866bfcaae7b14aedf7c4e97560"
  },
  "kernelspec": {
   "display_name": "Python 3.7.12 ('venv_mestrado')",
   "language": "python",
   "name": "python3"
  },
  "language_info": {
   "codemirror_mode": {
    "name": "ipython",
    "version": 3
   },
   "file_extension": ".py",
   "mimetype": "text/x-python",
   "name": "python",
   "nbconvert_exporter": "python",
   "pygments_lexer": "ipython3",
   "version": "3.7.12"
  },
  "orig_nbformat": 4
 },
 "nbformat": 4,
 "nbformat_minor": 2
}
