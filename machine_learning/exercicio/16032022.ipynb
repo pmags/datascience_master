{
 "cells": [
  {
   "cell_type": "markdown",
   "metadata": {},
   "source": [
    "# Exercicio 15/03"
   ]
  },
  {
   "cell_type": "code",
   "execution_count": 1,
   "metadata": {},
   "outputs": [],
   "source": [
    "import numpy as np\n",
    "import pandas as pd\n",
    "from sklearn.model_selection import train_test_split\n",
    "from sklearn.neighbors import KNeighborsClassifier as kNN\n",
    "from sklearn.linear_model import LogisticRegression as logreg\n",
    "from sklearn.discriminant_analysis import LinearDiscriminantAnalysis as LDA\n",
    "from sklearn.discriminant_analysis import QuadraticDiscriminantAnalysis as QDA\n",
    "from sklearn import metrics"
   ]
  },
  {
   "cell_type": "code",
   "execution_count": 2,
   "metadata": {},
   "outputs": [],
   "source": [
    "# import file\n",
    "data = pd.read_csv(\"diabetes.csv\")\n",
    "\n",
    "# Define target and features\n",
    "#y = data[\"Outcome\"]\n",
    "#x = data.loc[:, data.columns != \"Outcome\"]\n",
    "#x_train, x_test, y_train, y_test = train_test_split(x, y, test_size=0.33)\n",
    "\n",
    "# Split test and train\n",
    "x_train, x_test, y_train, y_test = train_test_split(data.loc[:, data.columns != \"Outcome\"], data[\"Outcome\"], test_size=0.33)"
   ]
  },
  {
   "cell_type": "code",
   "execution_count": 3,
   "metadata": {},
   "outputs": [],
   "source": [
    "# Train knn (k=5)\n",
    "model = kNN(n_neighbors = 5).fit(x_train,y_train)\n",
    "\n",
    "# predict train\n",
    "y_train_pred = model.predict(x_train)\n",
    "y_test_pred = model.predict(x_test)\n",
    "\n",
    "# Accuracy metric\n",
    "acc_train_knn = metrics.accuracy_score(y_train,y_train_pred)\n",
    "\n",
    "acc_test_knn = metrics.accuracy_score(y_test, y_test_pred)\n",
    "\n",
    "results = pd.DataFrame({\"Model\": [\"Knn\"], \"Test\": [acc_test_knn], \"Train\": [acc_train_knn]})\n"
   ]
  },
  {
   "cell_type": "code",
   "execution_count": 6,
   "metadata": {},
   "outputs": [
    {
     "name": "stderr",
     "output_type": "stream",
     "text": [
      "C:\\Anaconda3\\envs\\venv_mestrado\\lib\\site-packages\\sklearn\\linear_model\\_logistic.py:765: ConvergenceWarning: lbfgs failed to converge (status=1):\n",
      "STOP: TOTAL NO. of ITERATIONS REACHED LIMIT.\n",
      "\n",
      "Increase the number of iterations (max_iter) or scale the data as shown in:\n",
      "    https://scikit-learn.org/stable/modules/preprocessing.html\n",
      "Please also refer to the documentation for alternative solver options:\n",
      "    https://scikit-learn.org/stable/modules/linear_model.html#logistic-regression\n",
      "  extra_warning_msg=_LOGISTIC_SOLVER_CONVERGENCE_MSG)\n"
     ]
    }
   ],
   "source": [
    "# Train logReg\n",
    "modelLogReg = logreg().fit(x_train, y_train)\n",
    "\n",
    "# predict\n",
    "y_train_pred = modelLogReg.predict(x_train)\n",
    "y_test_pred = modelLogReg.predict(x_test)\n",
    "\n",
    "# Accuracy metric\n",
    "acc_train_log = metrics.accuracy_score(y_train, y_train_pred)\n",
    "\n",
    "acc_test_log = metrics.accuracy_score(y_test, y_test_pred)\n",
    "\n",
    "results = results.append({\"Model\": [\"logistic regression\"], \"Test\": [acc_test_log], \"Train\": [acc_train_log]},ignore_index=True)"
   ]
  },
  {
   "cell_type": "code",
   "execution_count": 4,
   "metadata": {},
   "outputs": [],
   "source": [
    "# Train LDA\n",
    "modelLDA = LDA().fit(x_train,y_train)\n",
    "\n",
    "# predict\n",
    "y_train_pred = modelLDA.predict(x_train)\n",
    "y_test_pred = modelLDA.predict(x_test)\n",
    "\n",
    "# Accuracy metric\n",
    "acc_train_lda = metrics.accuracy_score(y_train,y_train_pred)\n",
    "\n",
    "acc_test_lda = metrics.accuracy_score(y_test, y_test_pred)\n",
    "\n",
    "results = results.append({\"Model\": [\"LDA\"], \"Test\": [acc_train_lda], \"Train\": [acc_test_lda]},ignore_index=True)"
   ]
  },
  {
   "cell_type": "code",
   "execution_count": 9,
   "metadata": {},
   "outputs": [],
   "source": [
    "# Train QDA\n",
    "modeQDA = QDA().fit(x_train,y_train)\n",
    "\n",
    "# predict\n",
    "y_train_pred = modeQDA.predict(x_train)\n",
    "y_test_pred = modeQDA.predict(x_test)\n",
    "\n",
    "# Accuracy metric\n",
    "acc_train_qda = metrics.accuracy_score(y_train,y_train_pred)\n",
    "\n",
    "acc_test_qda = metrics.accuracy_score(y_test, y_test_pred)\n",
    "\n",
    "results = results.append({\"Model\": [\"QDA\"], \"Test\": [acc_train_qda], \"Train\": [acc_test_qda]},ignore_index=True)"
   ]
  },
  {
   "cell_type": "code",
   "execution_count": 10,
   "metadata": {},
   "outputs": [
    {
     "name": "stdout",
     "output_type": "stream",
     "text": [
      "                   Model                  Test                 Train\n",
      "0                    Knn              0.740157              0.780156\n",
      "1                  [LDA]  [0.7529182879377432]  [0.8267716535433071]\n",
      "2  [logistic regression]  [0.8228346456692913]  [0.7587548638132295]\n",
      "3                  [QDA]  [0.7490272373540856]  [0.8070866141732284]\n"
     ]
    }
   ],
   "source": [
    "print(results)"
   ]
  },
  {
   "cell_type": "markdown",
   "metadata": {},
   "source": [
    "1. Highest training accuracy: LDA\n",
    "2. Can you trust that this method will have good results on unseen data? Why?: There is a lost of accuracy when test dataset is used. Without a clear goal for this metric is hard to judge but one can conclude that the decrease is not substancial. Although other models performed better using test data.\n",
    "3. "
   ]
  }
 ],
 "metadata": {
  "interpreter": {
   "hash": "62a6c86f86745f44f0618d955818946d3a900d866bfcaae7b14aedf7c4e97560"
  },
  "kernelspec": {
   "display_name": "Python 3.7.12 ('venv_mestrado')",
   "language": "python",
   "name": "python3"
  },
  "language_info": {
   "codemirror_mode": {
    "name": "ipython",
    "version": 3
   },
   "file_extension": ".py",
   "mimetype": "text/x-python",
   "name": "python",
   "nbconvert_exporter": "python",
   "pygments_lexer": "ipython3",
   "version": "3.7.12"
  },
  "orig_nbformat": 4
 },
 "nbformat": 4,
 "nbformat_minor": 2
}
