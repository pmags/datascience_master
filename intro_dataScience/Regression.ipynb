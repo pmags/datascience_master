{
 "cells": [
  {
   "cell_type": "code",
   "execution_count": 75,
   "metadata": {},
   "outputs": [
    {
     "data": {
      "text/html": [
       "<div>\n",
       "<style scoped>\n",
       "    .dataframe tbody tr th:only-of-type {\n",
       "        vertical-align: middle;\n",
       "    }\n",
       "\n",
       "    .dataframe tbody tr th {\n",
       "        vertical-align: top;\n",
       "    }\n",
       "\n",
       "    .dataframe thead th {\n",
       "        text-align: right;\n",
       "    }\n",
       "</style>\n",
       "<table border=\"1\" class=\"dataframe\">\n",
       "  <thead>\n",
       "    <tr style=\"text-align: right;\">\n",
       "      <th></th>\n",
       "      <th>Suburb</th>\n",
       "      <th>Address</th>\n",
       "      <th>Rooms</th>\n",
       "      <th>Type</th>\n",
       "      <th>Price</th>\n",
       "      <th>Method</th>\n",
       "      <th>SellerG</th>\n",
       "      <th>Date</th>\n",
       "      <th>Distance</th>\n",
       "      <th>Postcode</th>\n",
       "      <th>...</th>\n",
       "      <th>Bathroom</th>\n",
       "      <th>Car</th>\n",
       "      <th>Landsize</th>\n",
       "      <th>BuildingArea</th>\n",
       "      <th>YearBuilt</th>\n",
       "      <th>CouncilArea</th>\n",
       "      <th>Lattitude</th>\n",
       "      <th>Longtitude</th>\n",
       "      <th>Regionname</th>\n",
       "      <th>Propertycount</th>\n",
       "    </tr>\n",
       "  </thead>\n",
       "  <tbody>\n",
       "    <tr>\n",
       "      <th>26843</th>\n",
       "      <td>Broadmeadows</td>\n",
       "      <td>30 Cuthbert St</td>\n",
       "      <td>4</td>\n",
       "      <td>h</td>\n",
       "      <td>605000.0</td>\n",
       "      <td>S</td>\n",
       "      <td>YPA</td>\n",
       "      <td>11/11/2017</td>\n",
       "      <td>14.0</td>\n",
       "      <td>3047.0</td>\n",
       "      <td>...</td>\n",
       "      <td>1.0</td>\n",
       "      <td>2.0</td>\n",
       "      <td>601.0</td>\n",
       "      <td>150.0</td>\n",
       "      <td>1960.0</td>\n",
       "      <td>Hume City Council</td>\n",
       "      <td>-37.68480</td>\n",
       "      <td>144.93340</td>\n",
       "      <td>Northern Metropolitan</td>\n",
       "      <td>4294.0</td>\n",
       "    </tr>\n",
       "    <tr>\n",
       "      <th>13927</th>\n",
       "      <td>Yarraville</td>\n",
       "      <td>2/150 Hyde St</td>\n",
       "      <td>2</td>\n",
       "      <td>u</td>\n",
       "      <td>650000.0</td>\n",
       "      <td>SP</td>\n",
       "      <td>Jas</td>\n",
       "      <td>13/05/2017</td>\n",
       "      <td>7.0</td>\n",
       "      <td>3013.0</td>\n",
       "      <td>...</td>\n",
       "      <td>2.0</td>\n",
       "      <td>2.0</td>\n",
       "      <td>0.0</td>\n",
       "      <td>92.0</td>\n",
       "      <td>1985.0</td>\n",
       "      <td>Maribyrnong City Council</td>\n",
       "      <td>-37.81610</td>\n",
       "      <td>144.89670</td>\n",
       "      <td>Western Metropolitan</td>\n",
       "      <td>6543.0</td>\n",
       "    </tr>\n",
       "    <tr>\n",
       "      <th>7633</th>\n",
       "      <td>Pascoe Vale</td>\n",
       "      <td>24 Alexandra St</td>\n",
       "      <td>3</td>\n",
       "      <td>h</td>\n",
       "      <td>731000.0</td>\n",
       "      <td>S</td>\n",
       "      <td>Brad</td>\n",
       "      <td>4/06/2016</td>\n",
       "      <td>9.9</td>\n",
       "      <td>3044.0</td>\n",
       "      <td>...</td>\n",
       "      <td>1.0</td>\n",
       "      <td>2.0</td>\n",
       "      <td>568.0</td>\n",
       "      <td>111.0</td>\n",
       "      <td>1960.0</td>\n",
       "      <td>Moreland City Council</td>\n",
       "      <td>-37.71780</td>\n",
       "      <td>144.94220</td>\n",
       "      <td>Northern Metropolitan</td>\n",
       "      <td>7485.0</td>\n",
       "    </tr>\n",
       "    <tr>\n",
       "      <th>15374</th>\n",
       "      <td>West Footscray</td>\n",
       "      <td>22 Hope St</td>\n",
       "      <td>3</td>\n",
       "      <td>h</td>\n",
       "      <td>1100000.0</td>\n",
       "      <td>S</td>\n",
       "      <td>Biggin</td>\n",
       "      <td>3/06/2017</td>\n",
       "      <td>6.4</td>\n",
       "      <td>3012.0</td>\n",
       "      <td>...</td>\n",
       "      <td>2.0</td>\n",
       "      <td>3.0</td>\n",
       "      <td>380.0</td>\n",
       "      <td>106.4</td>\n",
       "      <td>1945.0</td>\n",
       "      <td>Maribyrnong City Council</td>\n",
       "      <td>-37.79194</td>\n",
       "      <td>144.87144</td>\n",
       "      <td>Western Metropolitan</td>\n",
       "      <td>5058.0</td>\n",
       "    </tr>\n",
       "    <tr>\n",
       "      <th>17181</th>\n",
       "      <td>North Melbourne</td>\n",
       "      <td>72 Curzon St</td>\n",
       "      <td>2</td>\n",
       "      <td>h</td>\n",
       "      <td>1126000.0</td>\n",
       "      <td>SP</td>\n",
       "      <td>Nelson</td>\n",
       "      <td>27/05/2017</td>\n",
       "      <td>1.8</td>\n",
       "      <td>3051.0</td>\n",
       "      <td>...</td>\n",
       "      <td>1.0</td>\n",
       "      <td>0.0</td>\n",
       "      <td>114.0</td>\n",
       "      <td>65.0</td>\n",
       "      <td>1910.0</td>\n",
       "      <td>Melbourne City Council</td>\n",
       "      <td>-37.80248</td>\n",
       "      <td>144.94846</td>\n",
       "      <td>Northern Metropolitan</td>\n",
       "      <td>6821.0</td>\n",
       "    </tr>\n",
       "  </tbody>\n",
       "</table>\n",
       "<p>5 rows × 21 columns</p>\n",
       "</div>"
      ],
      "text/plain": [
       "                Suburb          Address  Rooms Type      Price Method SellerG  \\\n",
       "26843     Broadmeadows   30 Cuthbert St      4    h   605000.0      S     YPA   \n",
       "13927       Yarraville    2/150 Hyde St      2    u   650000.0     SP     Jas   \n",
       "7633       Pascoe Vale  24 Alexandra St      3    h   731000.0      S    Brad   \n",
       "15374   West Footscray       22 Hope St      3    h  1100000.0      S  Biggin   \n",
       "17181  North Melbourne     72 Curzon St      2    h  1126000.0     SP  Nelson   \n",
       "\n",
       "             Date  Distance  Postcode  ...  Bathroom  Car  Landsize  \\\n",
       "26843  11/11/2017      14.0    3047.0  ...       1.0  2.0     601.0   \n",
       "13927  13/05/2017       7.0    3013.0  ...       2.0  2.0       0.0   \n",
       "7633    4/06/2016       9.9    3044.0  ...       1.0  2.0     568.0   \n",
       "15374   3/06/2017       6.4    3012.0  ...       2.0  3.0     380.0   \n",
       "17181  27/05/2017       1.8    3051.0  ...       1.0  0.0     114.0   \n",
       "\n",
       "       BuildingArea  YearBuilt               CouncilArea Lattitude  \\\n",
       "26843         150.0     1960.0         Hume City Council -37.68480   \n",
       "13927          92.0     1985.0  Maribyrnong City Council -37.81610   \n",
       "7633          111.0     1960.0     Moreland City Council -37.71780   \n",
       "15374         106.4     1945.0  Maribyrnong City Council -37.79194   \n",
       "17181          65.0     1910.0    Melbourne City Council -37.80248   \n",
       "\n",
       "       Longtitude             Regionname Propertycount  \n",
       "26843   144.93340  Northern Metropolitan        4294.0  \n",
       "13927   144.89670   Western Metropolitan        6543.0  \n",
       "7633    144.94220  Northern Metropolitan        7485.0  \n",
       "15374   144.87144   Western Metropolitan        5058.0  \n",
       "17181   144.94846  Northern Metropolitan        6821.0  \n",
       "\n",
       "[5 rows x 21 columns]"
      ]
     },
     "execution_count": 75,
     "metadata": {},
     "output_type": "execute_result"
    }
   ],
   "source": [
    "import matplotlib.pyplot as plt\n",
    "import numpy as np \n",
    "from sklearn.linear_model import LinearRegression\n",
    "import pandas as pd\n",
    "\n",
    "houses_full=pd.read_csv('../Dados/Melbourne_housing_FULL.csv')\n",
    "houses=houses_full.dropna()\n",
    "houses=houses.loc[houses['BuildingArea']<1500]\n",
    "houses=houses.sample(1000,random_state=123)\n",
    "\n",
    "houses.head()\n"
   ]
  },
  {
   "cell_type": "code",
   "execution_count": 111,
   "metadata": {},
   "outputs": [
    {
     "data": {
      "text/plain": [
       "(1000,)"
      ]
     },
     "execution_count": 111,
     "metadata": {},
     "output_type": "execute_result"
    },
    {
     "data": {
      "image/png": "[encoded data removed]",
      "text/plain": [
       "<Figure size 432x288 with 3 Axes>"
      ]
     },
     "metadata": {
      "needs_background": "light"
     },
     "output_type": "display_data"
    }
   ],
   "source": [
    "# separate the predictors as x\n",
    "# transform the data frame into an numpy array\n",
    "# this will facilitate slicing for plotting and ML\n",
    "predictors=['BuildingArea','Rooms','Distance']\n",
    "x=np.array(houses.loc[:,predictors])\n",
    "y=np.array(houses.loc[:,'Price'])\n",
    "\n",
    "def priceshrink(v,t):\n",
    "    return int(v/1000000)\n",
    "\n",
    "fig, sc = plt.subplots(1,len(predictors))\n",
    "fig.suptitle('Scatter plots between predictors and target')\n",
    "for i in range(len(predictors)):\n",
    "    sc[i].scatter(x[:,i], y)\n",
    "    sc[i].set(xlabel=predictors[i])\n",
    "    sc[i].yaxis.set_major_formatter(plt.NullFormatter())\n",
    "sc[0].set(ylabel='Price')\n",
    "sc[0].yaxis.set_major_formatter(plt.FuncFormatter(priceshrink))\n",
    "np.shape(y)"
   ]
  },
  {
   "cell_type": "code",
   "execution_count": 112,
   "metadata": {},
   "outputs": [
    {
     "data": {
      "text/plain": [
       "[<matplotlib.lines.Line2D at 0x15c03b910>]"
      ]
     },
     "execution_count": 112,
     "metadata": {},
     "output_type": "execute_result"
    },
    {
     "data": {
      "image/png": "[encoded data removed]",
      "text/plain": [
       "<Figure size 432x288 with 1 Axes>"
      ]
     },
     "metadata": {
      "needs_background": "light"
     },
     "output_type": "display_data"
    }
   ],
   "source": [
    "model = LinearRegression(fit_intercept=True)\n",
    "\n",
    "\n",
    "model.fit(x[:,0:1], y)\n",
    "\n",
    "xfit = np.linspace(0, max(x[:,0]), 1000)\n",
    "# newaxis gives xfit the shape of a matrix\n",
    "yfit = model.predict(xfit[:,np.newaxis])\n",
    "\n",
    "# the building of the plot starts by defining an axes\n",
    "# then you put the scatter plot on the axes\n",
    "# you set a number of things on the axes\n",
    "# etc.\n",
    "# the build of the plot is axes centered\n",
    "ax=plt.axes(label='lrfit')\n",
    "ax.scatter(x[:,0], y)\n",
    "ax.set_ylabel('Price')\n",
    "ax.set_xlabel('BuildingArea')\n",
    "ax.set_xlim(left=0)\n",
    "ax.set_xlim(left=0,right=max(x[:,0]))\n",
    "ax.yaxis.set_major_formatter(plt.FuncFormatter(priceshrink))\n",
    "ax.plot(xfit, yfit,color='red')\n"
   ]
  },
  {
   "cell_type": "code",
   "execution_count": 98,
   "metadata": {},
   "outputs": [
    {
     "name": "stdout",
     "output_type": "stream",
     "text": [
      "Model slope:     5487.962267597321\n",
      "Model intercept: 283793.64117072534\n"
     ]
    }
   ],
   "source": [
    "print(\"Model slope:    \", model.coef_[0])\n",
    "print(\"Model intercept:\", model.intercept_)"
   ]
  },
  {
   "cell_type": "code",
   "execution_count": 105,
   "metadata": {},
   "outputs": [
    {
     "name": "stdout",
     "output_type": "stream",
     "text": [
      "Model R2:     0.38645218072864085\n"
     ]
    }
   ],
   "source": [
    "print(\"Model R2:    \", model.score(x[:,0:1],y))"
   ]
  },
  {
   "cell_type": "code",
   "execution_count": 113,
   "metadata": {},
   "outputs": [
    {
     "name": "stdout",
     "output_type": "stream",
     "text": [
      "Predictors: ['BuildingArea', 'Rooms', 'Distance']\n",
      "Coefficients (alphas):     [  5096.81698113  85404.64073188 -36513.48538364]\n",
      "Model intercept: 482938.626092975\n",
      "Model R2:     0.5021785990606764\n"
     ]
    }
   ],
   "source": [
    "model.fit(x, y)\n",
    "print(\"Predictors:\",predictors)\n",
    "print(\"Coefficients (alphas):    \", model.coef_)\n",
    "print(\"Model intercept:\", model.intercept_)\n",
    "print(\"Model R2:    \", model.score(x,y))"
   ]
  },
  {
   "cell_type": "code",
   "execution_count": 133,
   "metadata": {},
   "outputs": [
    {
     "data": {
      "text/plain": [
       "<matplotlib.collections.PathCollection at 0x15c80f7c0>"
      ]
     },
     "execution_count": 133,
     "metadata": {},
     "output_type": "execute_result"
    },
    {
     "data": {
      "image/png": "[encoded data removed]",
      "text/plain": [
       "<Figure size 432x288 with 1 Axes>"
      ]
     },
     "metadata": {
      "needs_background": "light"
     },
     "output_type": "display_data"
    }
   ],
   "source": [
    "rng = np.random.RandomState(1)\n",
    "x = 10 * rng.rand(50)\n",
    "y = (np.sin(x) + 0.1 * rng.randn(50) +5)*24\n",
    "\n",
    "ax=plt.axes(label='lrknn')\n",
    "ax.set_xlim(0,10)\n",
    "ax.scatter(x, y)\n"
   ]
  },
  {
   "cell_type": "code",
   "execution_count": 134,
   "metadata": {},
   "outputs": [
    {
     "data": {
      "text/plain": [
       "[<matplotlib.lines.Line2D at 0x15cbedb80>]"
      ]
     },
     "execution_count": 134,
     "metadata": {},
     "output_type": "execute_result"
    },
    {
     "data": {
      "image/png": "[encoded data removed]",
      "text/plain": [
       "<Figure size 432x288 with 1 Axes>"
      ]
     },
     "metadata": {
      "needs_background": "light"
     },
     "output_type": "display_data"
    }
   ],
   "source": [
    "model.fit(x[:,np.newaxis],y[:,np.newaxis])\n",
    "xfit = np.linspace(0, max(x), 1000)\n",
    "# newaxis gives xfit the shape of a matrix\n",
    "yfit = model.predict(xfit[:,np.newaxis])\n",
    "\n",
    "ax=plt.axes(label='lrknn')\n",
    "ax.set_xlim(0,10)\n",
    "ax.scatter(x, y)\n",
    "ax.plot(xfit, yfit,color='red')\n"
   ]
  },
  {
   "cell_type": "code",
   "execution_count": 135,
   "metadata": {},
   "outputs": [
    {
     "data": {
      "text/plain": [
       "[<matplotlib.lines.Line2D at 0x15ccf5a60>]"
      ]
     },
     "execution_count": 135,
     "metadata": {},
     "output_type": "execute_result"
    },
    {
     "data": {
      "image/png": "[encoded data removed]",
      "text/plain": [
       "<Figure size 432x288 with 1 Axes>"
      ]
     },
     "metadata": {
      "needs_background": "light"
     },
     "output_type": "display_data"
    }
   ],
   "source": [
    "from sklearn.neighbors import KNeighborsRegressor\n",
    "neigh = KNeighborsRegressor(n_neighbors=2)\n",
    "neigh.fit(x[:,np.newaxis], y)\n",
    "yfitn=neigh.predict(xfit[:,np.newaxis])\n",
    "\n",
    "ax=plt.axes(label='lrknn')\n",
    "ax.set_xlim(0,10)\n",
    "ax.scatter(x, y)\n",
    "ax.plot(xfit, yfitn,color='green')\n"
   ]
  }
 ],
 "metadata": {
  "kernelspec": {
   "display_name": "Python 3",
   "language": "python",
   "name": "python3"
  },
  "language_info": {
   "codemirror_mode": {
    "name": "ipython",
    "version": 3
   },
   "file_extension": ".py",
   "mimetype": "text/x-python",
   "name": "python",
   "nbconvert_exporter": "python",
   "pygments_lexer": "ipython3",
   "version": "3.8.3"
  }
 },
 "nbformat": 4,
 "nbformat_minor": 4
}
